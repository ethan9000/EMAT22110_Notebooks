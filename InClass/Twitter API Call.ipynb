{
 "cells": [
  {
   "cell_type": "code",
   "execution_count": 2,
   "id": "overhead-montreal",
   "metadata": {},
   "outputs": [],
   "source": [
    "import requests\n",
    "import urllib\n",
    "import json\n",
    "import pandas as pd"
   ]
  },
  {
   "cell_type": "code",
   "execution_count": 14,
   "id": "registered-rover",
   "metadata": {},
   "outputs": [],
   "source": [
    "tokens = pd.read_csv('/Users/ethanhancock/Documents/Twitter-Keys.txt', sep = '\\t', header = None).T\n",
    "tokens.columns = tokens.iloc[0]\n",
    "tokens = tokens[1:]\n",
    "#tokens.Bearer_Token[1]"
   ]
  },
  {
   "cell_type": "code",
   "execution_count": 15,
   "id": "separated-purse",
   "metadata": {},
   "outputs": [],
   "source": [
    "def auth():\n",
    "    return tokens.Bearer_Token[1]"
   ]
  },
  {
   "cell_type": "code",
   "execution_count": 24,
   "id": "proper-medicine",
   "metadata": {},
   "outputs": [
    {
     "name": "stdout",
     "output_type": "stream",
     "text": [
      "https://api.twitter.com/2/tweets/search/recent?query=%28vaccine%29%20OR%20%23vaccine%20OR%20%23COVID%20%23vaccine%20OR%20%28COVID-19%20vaccine%29%20OR%20vaccines%20OR%20%23vaccines%20OR%20%28COVID-19%20vaccines%29%20OR%20%28COVID%20vaccine%29%20OR%20%28COVID%20vaccines%29%20-is%3Aretweet&tweet.fields=author_id,geo,lang,text,id\n"
     ]
    }
   ],
   "source": [
    "def create_url():\n",
    "    query = urllib.parse.quote('(vaccine) OR #vaccine OR #COVID #vaccine OR (COVID-19 vaccine) OR vaccines OR #vaccines OR (COVID-19 vaccines) OR (COVID vaccine) OR (COVID vaccines) -is:retweet')\n",
    "    tweet_fields = 'tweet.fields=author_id,geo,lang,text,id'\n",
    "    url = 'https://api.twitter.com/2/tweets/search/recent?query={}&{}'.format(query, tweet_fields)\n",
    "    return url\n",
    "\n",
    "print(create_url())"
   ]
  },
  {
   "cell_type": "code",
   "execution_count": 25,
   "id": "liquid-prisoner",
   "metadata": {},
   "outputs": [],
   "source": [
    "def create_headers(bearer_token):\n",
    "    headers = {\"Authorization\": \"Bearer {}\".format(bearer_token)}\n",
    "    return headers\n",
    "\n",
    "#print(create_headers(tokens.Bearer_Token[1]))"
   ]
  },
  {
   "cell_type": "code",
   "execution_count": 29,
   "id": "external-marathon",
   "metadata": {},
   "outputs": [],
   "source": [
    "def connect_to_endpoint(url, headers):\n",
    "    response = requests.request(\"GET\", url, headers=headers)\n",
    "    print(response.status_code)\n",
    "    if response.status_code !=200:\n",
    "        raise Exception(response.status_code, response.text)\n",
    "    return response.json()"
   ]
  },
  {
   "cell_type": "code",
   "execution_count": 30,
   "id": "employed-retreat",
   "metadata": {},
   "outputs": [],
   "source": [
    "def main():\n",
    "    bearer_token = auth()\n",
    "    url = create_url()\n",
    "    headers = create_headers(bearer_token)\n",
    "    json_response = connect_to_endpoint(url, headers)\n",
    "    print(json.dumps(json_response, indent = 4, sort_keys = True))"
   ]
  },
  {
   "cell_type": "code",
   "execution_count": 31,
   "id": "eastern-george",
   "metadata": {},
   "outputs": [
    {
     "name": "stdout",
     "output_type": "stream",
     "text": [
      "200\n",
      "{\n",
      "    \"data\": [\n",
      "        {\n",
      "            \"author_id\": \"23519145\",\n",
      "            \"id\": \"1384562509898731523\",\n",
      "            \"lang\": \"en\",\n",
      "            \"text\": \"RT @AbhijeetMonet: Childcare workers are still doing their jobs in person &amp; so are grocery, transportation, manufacturing workers &amp; many mo\\u2026\"\n",
      "        },\n",
      "        {\n",
      "            \"author_id\": \"195796125\",\n",
      "            \"id\": \"1384562509793828871\",\n",
      "            \"lang\": \"en\",\n",
      "            \"text\": \"RT @LauraLyallCTV: We have 2500 doses of these vaccines in our current supply, says Dr. Russell. Remaining Astra-Zeneca clinics scheduled f\\u2026\"\n",
      "        },\n",
      "        {\n",
      "            \"author_id\": \"770138678542868480\",\n",
      "            \"id\": \"1384562509403738116\",\n",
      "            \"lang\": \"en\",\n",
      "            \"text\": \"RT @Varun_Jhaveri: Big news:\\n\\nUP Cabinet decides to give free vaccines to all above the age of 18 from May 1st!\"\n",
      "        },\n",
      "        {\n",
      "            \"author_id\": \"21807755\",\n",
      "            \"id\": \"1384562508309180419\",\n",
      "            \"lang\": \"en\",\n",
      "            \"text\": \"Dr. Randall Williams. helped lead the state's response to the coronavirus pandemic and is leaving amid the vaccine rollout. https://t.co/oCBKwnBubE\"\n",
      "        },\n",
      "        {\n",
      "            \"author_id\": \"353533788\",\n",
      "            \"id\": \"1384562507767980035\",\n",
      "            \"lang\": \"en\",\n",
      "            \"text\": \"RT @fayedsouza: Vaccine For All Above 18, Do We Have Enough Stock?\\n\\nDr Rakesh Mishra says, \\\"Everything that is happening is so dynamic, wit\\u2026\"\n",
      "        },\n",
      "        {\n",
      "            \"author_id\": \"866890917835190272\",\n",
      "            \"id\": \"1384562507747008520\",\n",
      "            \"lang\": \"en\",\n",
      "            \"text\": \"RT @mayraxherrera: \\ud83d\\udde3 SANTA ANA RESIDENTS \\ud83d\\udde3\\n\\nSegerstrom High School is doing WALK-INS for the Pfizer vaccine! If you\\u2019re 16+, live or work in\\u2026\"\n",
      "        },\n",
      "        {\n",
      "            \"author_id\": \"151178491\",\n",
      "            \"id\": \"1384562507214467072\",\n",
      "            \"lang\": \"en\",\n",
      "            \"text\": \"Attention #DMV region: Everyone 16 and older is now eligible for a free #COVID19 vaccine. Learn more and pre-register: https://t.co/dR9lhg9Fmp #StopTheSpreadDMV https://t.co/PqAxBXaKBf\"\n",
      "        },\n",
      "        {\n",
      "            \"author_id\": \"1268996446751088640\",\n",
      "            \"id\": \"1384562507205910531\",\n",
      "            \"lang\": \"en\",\n",
      "            \"text\": \"RT @suitelifeofyash: check this thread for verified resources for vaccines/beds and other requirements for covid patients:\"\n",
      "        },\n",
      "        {\n",
      "            \"author_id\": \"1271876368196792321\",\n",
      "            \"id\": \"1384562507054944256\",\n",
      "            \"lang\": \"en\",\n",
      "            \"text\": \"RT @swapneilparikh: In the world\\u2019s time of need India exported vaccines to low middle income countries. In India\\u2019s time of crisis a suppose\\u2026\"\n",
      "        },\n",
      "        {\n",
      "            \"author_id\": \"1685556122\",\n",
      "            \"id\": \"1384562507038134273\",\n",
      "            \"lang\": \"te\",\n",
      "            \"text\": \"\\u0c15\\u0c30\\u0c4b\\u0c28\\u0c3e \\u0c35\\u0c4d\\u0c2f\\u0c3e\\u0c15\\u0c4d\\u0c38\\u0c3f\\u0c28\\u0c4d\\u200c \\u0c0e\\u0c35\\u0c30\\u0c46\\u0c35\\u0c30\\u0c41 \\u0c35\\u0c47\\u0c38\\u0c41\\u0c15\\u0c4b\\u0c15\\u0c42\\u0c21\\u0c26\\u0c41?\\n#CoronaVirus #Covid19 #Vaccine #India \\n#20042021\\nhttps://t.co/Qrcmk3Jt5R\"\n",
      "        }\n",
      "    ],\n",
      "    \"meta\": {\n",
      "        \"newest_id\": \"1384562509898731523\",\n",
      "        \"next_token\": \"b26v89c19zqg8o3fostsh2mx9qckpzjl82q3gfnn58m7x\",\n",
      "        \"oldest_id\": \"1384562507038134273\",\n",
      "        \"result_count\": 10\n",
      "    }\n",
      "}\n"
     ]
    }
   ],
   "source": [
    "main()"
   ]
  },
  {
   "cell_type": "markdown",
   "id": "quiet-funds",
   "metadata": {},
   "source": []
  }
 ],
 "metadata": {
  "kernelspec": {
   "display_name": "Python 3",
   "language": "python",
   "name": "python3"
  },
  "language_info": {
   "codemirror_mode": {
    "name": "ipython",
    "version": 3
   },
   "file_extension": ".py",
   "mimetype": "text/x-python",
   "name": "python",
   "nbconvert_exporter": "python",
   "pygments_lexer": "ipython3",
   "version": "3.9.1"
  },
  "varInspector": {
   "cols": {
    "lenName": 16,
    "lenType": 16,
    "lenVar": 40
   },
   "kernels_config": {
    "python": {
     "delete_cmd_postfix": "",
     "delete_cmd_prefix": "del ",
     "library": "var_list.py",
     "varRefreshCmd": "print(var_dic_list())"
    },
    "r": {
     "delete_cmd_postfix": ") ",
     "delete_cmd_prefix": "rm(",
     "library": "var_list.r",
     "varRefreshCmd": "cat(var_dic_list()) "
    }
   },
   "types_to_exclude": [
    "module",
    "function",
    "builtin_function_or_method",
    "instance",
    "_Feature"
   ],
   "window_display": false
  }
 },
 "nbformat": 4,
 "nbformat_minor": 5
}
