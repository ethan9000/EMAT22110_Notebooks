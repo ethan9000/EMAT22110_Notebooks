{
 "cells": [
  {
   "cell_type": "markdown",
   "id": "applicable-prairie",
   "metadata": {},
   "source": [
    "# System Check\n",
    "Ethan Hancock\n",
    "\n",
    "### Hopes for this Class\n",
    "1. Learn Python\n",
    "2. Learn data analytics\n",
    "3. Learn data visuilization in python\n",
    "\n",
    "I am *very* excited for this class and working with **python** for the first time. I am also very excited to be learning how to handle and use data in this context.\n",
    "\n",
    "![](https://cdn.searchenginejournal.com/wp-content/uploads/2020/06/how-to-use-python-to-monitor-and-measure-website-performance-5ed76ef838ff3-760x400.png)"
   ]
  },
  {
   "cell_type": "markdown",
   "id": "further-donor",
   "metadata": {},
   "source": [
    "#### Variable Assigment"
   ]
  },
  {
   "cell_type": "code",
   "execution_count": 1,
   "id": "confirmed-illinois",
   "metadata": {},
   "outputs": [],
   "source": [
    "e = \"Ethan\""
   ]
  },
  {
   "cell_type": "markdown",
   "id": "filled-rental",
   "metadata": {},
   "source": [
    "#### Basic Loop"
   ]
  },
  {
   "cell_type": "code",
   "execution_count": 2,
   "id": "incorporated-commonwealth",
   "metadata": {},
   "outputs": [
    {
     "name": "stdout",
     "output_type": "stream",
     "text": [
      "E\n",
      "t\n",
      "h\n",
      "a\n",
      "n\n"
     ]
    }
   ],
   "source": [
    "for x in e:\n",
    "    print(x)"
   ]
  },
  {
   "cell_type": "markdown",
   "id": "interested-uzbekistan",
   "metadata": {},
   "source": [
    "#### Print Statement"
   ]
  },
  {
   "cell_type": "code",
   "execution_count": 3,
   "id": "spare-evidence",
   "metadata": {},
   "outputs": [
    {
     "name": "stdout",
     "output_type": "stream",
     "text": [
      "Ethan\n"
     ]
    }
   ],
   "source": [
    "print(e)"
   ]
  },
  {
   "cell_type": "markdown",
   "id": "social-toyota",
   "metadata": {},
   "source": [
    "#### Return Statement"
   ]
  },
  {
   "cell_type": "code",
   "execution_count": 6,
   "id": "treated-recommendation",
   "metadata": {},
   "outputs": [
    {
     "name": "stdout",
     "output_type": "stream",
     "text": [
      "(9, 'Hi')\n"
     ]
    }
   ],
   "source": [
    "def return_practice():\n",
    "    r = 9\n",
    "    u = \"Hi\"\n",
    "    return r,u\n",
    "    \n",
    "print(return_practice())\n"
   ]
  }
 ],
 "metadata": {
  "kernelspec": {
   "display_name": "Python 3",
   "language": "python",
   "name": "python3"
  },
  "language_info": {
   "codemirror_mode": {
    "name": "ipython",
    "version": 3
   },
   "file_extension": ".py",
   "mimetype": "text/x-python",
   "name": "python",
   "nbconvert_exporter": "python",
   "pygments_lexer": "ipython3",
   "version": "3.9.1"
  },
  "varInspector": {
   "cols": {
    "lenName": 16,
    "lenType": 16,
    "lenVar": 40
   },
   "kernels_config": {
    "python": {
     "delete_cmd_postfix": "",
     "delete_cmd_prefix": "del ",
     "library": "var_list.py",
     "varRefreshCmd": "print(var_dic_list())"
    },
    "r": {
     "delete_cmd_postfix": ") ",
     "delete_cmd_prefix": "rm(",
     "library": "var_list.r",
     "varRefreshCmd": "cat(var_dic_list()) "
    }
   },
   "types_to_exclude": [
    "module",
    "function",
    "builtin_function_or_method",
    "instance",
    "_Feature"
   ],
   "window_display": false
  }
 },
 "nbformat": 4,
 "nbformat_minor": 5
}
